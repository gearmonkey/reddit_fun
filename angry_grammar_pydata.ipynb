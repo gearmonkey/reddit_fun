{
 "cells": [
  {
   "cell_type": "markdown",
   "metadata": {},
   "source": [
    "import libraries and set up file handlers"
   ]
  },
  {
   "cell_type": "code",
   "execution_count": null,
   "metadata": {
    "collapsed": true
   },
   "outputs": [],
   "source": [
    "import simplejson, time\n",
    "import codecs, StringIO\n",
    "from proselint.command_line import lint\n",
    "\n",
    "from nltk.sentiment.vader import SentimentIntensityAnalyzer\n",
    "from nltk import tokenize\n",
    "\n",
    "import scipy.stats\n",
    "import pandas, seaborn\n",
    "\n",
    "from string import punctuation\n",
    "punctuation = list(punctuation)\n",
    "\n",
    "sid = SentimentIntensityAnalyzer() #load the vadar analyzer\n",
    "\n",
    "rh = codecs.open('data/RC_2015-01', encoding='utf8')\n",
    "wh = codecs.open('data/per_comment_data_RC_2015-01.json', 'a', encoding='utf8')"
   ]
  },
  {
   "cell_type": "markdown",
   "metadata": {},
   "source": [
    "Here's the core text processing"
   ]
  },
  {
   "cell_type": "code",
   "execution_count": null,
   "metadata": {
    "collapsed": false
   },
   "outputs": [],
   "source": [
    "    idx = 0\n",
    "    errors = 0\n",
    "    for raw_comment in rh:\n",
    "        idx += 1\n",
    "        if idx % 5000 == 0:\n",
    "            print time.asctime(), \"about to process comment\", idx, 100*(idx/53851542.0), \"percent done\"\n",
    "        \n",
    "        comment = simplejson.loads(raw_comment)\n",
    "        try:\n",
    "            #comment token count\n",
    "            num_tokens = len(filter(lambda t:t not in punctuation, tokenize.word_tokenize(comment['body'])))\n",
    "            if num_tokens < 5:\n",
    "                #sentiment/grammar not reliable for small comments, so skipping\n",
    "                continue\n",
    "\n",
    "            #lint the comment for style/grammar\n",
    "            lints = lint(StringIO.StringIO(comment['body']))\n",
    "            minimal_lints = map(lambda l:(l[0], l[7]), lints) #not storing explaination or position\n",
    "\n",
    "            #vadar sentiment times\n",
    "            ss = sid.polarity_scores(comment['body'])\n",
    "\n",
    "           #write it out\n",
    "            wh.write(simplejson.dumps({'id':comment['id'], \n",
    "                                       'lints':minimal_lints, \n",
    "                                       'sentiment':ss, \n",
    "                                       'num_tokens':num_tokens})+'\\n')\n",
    "            \n",
    "        except Exception, err:\n",
    "            print \"error:\", err, \"while dealing with comment\", comment['id'], \"skipping\"\n",
    "            errors += 1"
   ]
  },
  {
   "cell_type": "markdown",
   "metadata": {},
   "source": [
    "loading/processing the output file"
   ]
  },
  {
   "cell_type": "code",
   "execution_count": null,
   "metadata": {
    "collapsed": true
   },
   "outputs": [],
   "source": [
    "rh = codecs.open('data/per_comment_data_RC_2015-01.json',  encoding='utf8')\n",
    "#screw it, just put the whole thing in memory\n",
    "results = map(lambda r:simplejson.loads(r), rh) #text to objects\n",
    "#build a pandas data frame\n",
    "results_frame = pandas.DataFrame({'lints':map(lambda r:len(r['lints']), results), \n",
    "                                  'normed lints':map(lambda r:len(r['lints'])/float(r['num_tokens']), results),\n",
    "                                  'compound':map(lambda r:r['sentiment']['compound'], results),\n",
    "                                  'positive':map(lambda r:r['sentiment']['pos'], results),\n",
    "                                  'neutral':map(lambda r:r['sentiment']['neu'], results),\n",
    "                                  'negative':map(lambda r:r['sentiment']['neg'], results),\n",
    "                                  'token counts':map(lambda r:r['num_tokens'], results),\n",
    "                                  })\n",
    "#basic stats from df describe\n",
    "results_frame.describe()\n",
    "\n",
    "#seaborn charting\n",
    "seaborn.pairplot(results_frame, vars=[\"normed lints\", \"positive\", \"neutral\", \"negative\"], kind='reg')\n",
    "\n",
    "#pearsons correlation testing\n",
    "scipy.stats.pearsonr(results_frame['negative'], results_frame['lints'])\n",
    "scipy.stats.pearsonr(results_frame['negative'], results_frame['normed lints'])\n",
    "\n",
    "    "
   ]
  }
 ],
 "metadata": {
  "kernelspec": {
   "display_name": "Python 2",
   "language": "python",
   "name": "python2"
  },
  "language_info": {
   "codemirror_mode": {
    "name": "ipython",
    "version": 2
   },
   "file_extension": ".py",
   "mimetype": "text/x-python",
   "name": "python",
   "nbconvert_exporter": "python",
   "pygments_lexer": "ipython2",
   "version": "2.7.10"
  }
 },
 "nbformat": 4,
 "nbformat_minor": 0
}
